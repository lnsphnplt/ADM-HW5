{
 "cells": [
  {
   "cell_type": "markdown",
   "metadata": {},
   "source": [
    "# 6. Algorithmic Question"
   ]
  },
  {
   "cell_type": "code",
   "execution_count": 3,
   "metadata": {},
   "outputs": [],
   "source": [
    "import numpy as np"
   ]
  },
  {
   "cell_type": "code",
   "execution_count": 4,
   "metadata": {},
   "outputs": [],
   "source": [
    "'''\n",
    "do_path works recursively. arguments are: current position, boolean grid, a path in list format, count list, dicionary mapping char to vector\n",
    "\n",
    "as long as path is not completed:\n",
    "    copies path, grid and current position\n",
    "    takes 1 step in the direction given by the first path element\n",
    "    if the updated position is within boundaries and was not visited before:\n",
    "        update grid\n",
    "        - call do_path with the updated position, updated grid and updated path\n",
    "        - continue in inital direction as long until out of grid boundries\n",
    "'''\n",
    "\n",
    "def do_path(current, grid, l_path, count, d):\n",
    "\n",
    "    if len(l_path)==0: # if path is completed, stop, append 1 to count\n",
    "        count.append(1)\n",
    "\n",
    "    else: # if path is not completed\n",
    "        c = current.copy() # without this DRU =-> 6\n",
    "        lgrid = grid.copy() # local copy of grid\n",
    "        path = l_path.copy() # local copy of left path\n",
    "        s = path.pop(0) # next direction\n",
    "\n",
    "        for i in range(1,3): # stepping once or twice into given direction\n",
    "            c += d[s] # updating current position, d is dictionary\n",
    "            try:\n",
    "                if (2>=c[0]>=0) and (2>=c[1]>=0) and lgrid[tuple(c)]==True: # if new position within boundaries and not visited before\n",
    "                    lgrid[tuple(c)] = False # set grid cell to False == visited\n",
    "                    pgrid = lgrid.copy()\n",
    "                    do_path(c, pgrid, path, count, d) # pass updated position, a copy of updated grid, path\n",
    "                else:\n",
    "                    break \n",
    "            except:\n",
    "                break\n",
    "            # if out of bound or visited break; two steps in the given direction won't be possible either\n"
   ]
  },
  {
   "cell_type": "code",
   "execution_count": 5,
   "metadata": {},
   "outputs": [],
   "source": [
    "'''\n",
    "call_paths takes a string as argument\n",
    "a 3x3 boolean grid is initialized. True is unvisited, False implies the cell has been visited\n",
    "calls the executing function do_path for copies of the grid and all possible initial positions\n",
    "'''\n",
    "\n",
    "def call_paths(string):\n",
    "\n",
    "    d= {'L':np.array([0,-1]), 'R':np.array([0,1]), 'D':np.array([-1,0]), 'U':np.array([1,0])} # dictionary mapping char to vector\n",
    "\n",
    "    ls = list(string) # string path as list\n",
    "\n",
    "    count = [] # list to store finished paths\n",
    "\n",
    "    arr = [True for i in range(3)] # constructing a 3x3 matrix of cells\n",
    "    grid = np.array([arr for i in range(3)])\n",
    "\n",
    "    for i in range(3):\n",
    "        for j in range(3): # calling the do_path function starting from all 9 cells\n",
    "            igrid = grid.copy() # copying the cell grid to avoid interference\n",
    "            igrid[i,j] = False # setting initial cell to False\n",
    "            do_path(np.array([i,j]), igrid, ls, count, d) # calling executing function\n",
    "            \n",
    "    print(sum(count))"
   ]
  },
  {
   "cell_type": "code",
   "execution_count": 6,
   "metadata": {},
   "outputs": [
    {
     "name": "stdout",
     "output_type": "stream",
     "text": [
      "15\n",
      "0\n",
      "9\n"
     ]
    }
   ],
   "source": [
    "call_paths('DRU') # testing algorithm with sample cases\n",
    "call_paths('LDRDRUL')\n",
    "call_paths('D')"
   ]
  }
 ],
 "metadata": {
  "kernelspec": {
   "display_name": "Python 3.10.8 ('roma')",
   "language": "python",
   "name": "python3"
  },
  "language_info": {
   "codemirror_mode": {
    "name": "ipython",
    "version": 3
   },
   "file_extension": ".py",
   "mimetype": "text/x-python",
   "name": "python",
   "nbconvert_exporter": "python",
   "pygments_lexer": "ipython3",
   "version": "3.10.8"
  },
  "orig_nbformat": 4,
  "vscode": {
   "interpreter": {
    "hash": "f0c636f18f7f8c5478a95196d5e93a56c7b8920526e8f2ff7a16679c1cc37438"
   }
  }
 },
 "nbformat": 4,
 "nbformat_minor": 2
}
